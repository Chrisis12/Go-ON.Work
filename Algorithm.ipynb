{
  "nbformat": 4,
  "nbformat_minor": 0,
  "metadata": {
    "colab": {
      "provenance": []
    },
    "kernelspec": {
      "name": "python3",
      "display_name": "Python 3"
    },
    "language_info": {
      "name": "python"
    }
  },
  "cells": [
    {
      "cell_type": "code",
      "execution_count": null,
      "metadata": {
        "id": "GvhAbqne5hpC",
        "colab": {
          "base_uri": "https://localhost:8080/"
        },
        "outputId": "3fd3fdf5-e99c-494e-d656-dd0a9a5a511a"
      },
      "outputs": [
        {
          "output_type": "stream",
          "name": "stdout",
          "text": [
            "Recommended Employers for the Worker:\n",
            "   Employer_ID     Job_Categories Location  Offered_Wage  Employer_Rating  \\\n",
            "1            2       Electricians  Jakarta        180000              150   \n",
            "0            1  Plumbers, Welders  Jakarta        200000              120   \n",
            "\n",
            "   relevance_score  \n",
            "1         3.150000  \n",
            "0         2.933333  \n"
          ]
        }
      ],
      "source": [
        "import pandas as pd\n",
        "\n",
        "def jaccard_similarity(set1, set2):\n",
        "    intersection = len(set1.intersection(set2))\n",
        "    union = len(set1.union(set2))\n",
        "    return intersection / union if union != 0 else 0\n",
        "\n",
        "def recommend_employers(worker_skills_str, worker_location, employers_df):\n",
        "\n",
        "    # Convert worker's skills string to a set, stripping any extra spaces\n",
        "    worker_skills = set([skill.strip() for skill in worker_skills_str.split(',')])\n",
        "    # Calculate the maximum offered wage in the dataset for normalization\n",
        "    max_wage = employers_df['Offered_Wage'].max()\n",
        "    # Filter employers that have at least one job category matching the worker's skills\n",
        "    matching_employers = employers_df[employers_df['Job_Categories'].apply(\n",
        "        lambda x: len(set([cat.strip() for cat in x.split(',')]).intersection(worker_skills)) > 0\n",
        "    )].copy()\n",
        "\n",
        "    if matching_employers.empty:\n",
        "        return pd.DataFrame(columns=employers_df.columns)\n",
        "\n",
        "    # Jaccard similarity between worker's skills and employer's job categories\n",
        "    matching_employers['jaccard'] = matching_employers['Job_Categories'].apply(\n",
        "        lambda x: jaccard_similarity(worker_skills, set([cat.strip() for cat in x.split(',')]))\n",
        "    )\n",
        "\n",
        "    # Binary Location match\n",
        "    matching_employers['location_match'] = (matching_employers['Location'] == worker_location).astype(int)\n",
        "\n",
        "    # Normalized offered wage\n",
        "    matching_employers['norm_wage'] = matching_employers['Offered_Wage'] / max_wage\n",
        "\n",
        "    # Normalized employer rating\n",
        "    matching_employers['norm_rating'] = matching_employers['Employer_Rating'] / 200\n",
        "\n",
        "    # Calculate total relevance score as the sum\n",
        "    matching_employers['relevance_score'] = (\n",
        "        matching_employers['jaccard'] +\n",
        "        matching_employers['location_match'] +\n",
        "        matching_employers['norm_wage'] +\n",
        "        matching_employers['norm_rating']\n",
        "    )\n",
        "\n",
        "    # Sort employers by relevance score in descending order\n",
        "    recommended_employers = matching_employers.sort_values(by='relevance_score', ascending=False)\n",
        "\n",
        "    # Drop extra columns\n",
        "    recommended_employers = recommended_employers.drop(\n",
        "        columns=['jaccard', 'location_match', 'norm_wage', 'norm_rating']\n",
        "    )\n",
        "\n",
        "    return recommended_employers"
      ]
    },
    {
      "cell_type": "code",
      "source": [
        "workers_df = pd.read_csv(\"Sample Dataset - workers.csv\")\n",
        "employers_df = pd.read_csv(\"Sample Dataset - employer.csv\")\n",
        "\n",
        "worker_id = input(\"Enter Worker ID: \")\n",
        "\n",
        "worker_row = workers_df[workers_df[\"Worker_ID\"] == int(worker_id)]\n",
        "if worker_row.empty:\n",
        "    print(\"Worker ID not found.\")\n",
        "else:\n",
        "    worker_location = worker_row[\"Location\"].values[0]\n",
        "    worker_skills = worker_row[\"Skills\"].values[0]\n",
        "\n",
        "    recommended_employers = recommend_employers(worker_skills, worker_location, employers_df)\n",
        "\n",
        "    print(recommended_employers)"
      ],
      "metadata": {
        "colab": {
          "base_uri": "https://localhost:8080/"
        },
        "id": "J_GY5Vk09uSV",
        "outputId": "12f77a83-a66f-4b46-e786-c99070aedcba"
      },
      "execution_count": null,
      "outputs": [
        {
          "output_type": "stream",
          "name": "stdout",
          "text": [
            "Enter Worker ID: 1\n",
            "    Job_ID  Employer_Rating      Type_of_Work  \\\n",
            "28      29             85.0  Waste collection   \n",
            "25      26             74.4  Waste collection   \n",
            "97      98             65.1  Waste collection   \n",
            "47      48            120.1  Waste collection   \n",
            "55      56            147.0  Waste collection   \n",
            "63      64             96.4  Waste collection   \n",
            "14      15             99.9  Waste collection   \n",
            "79      80             95.8  Waste collection   \n",
            "15      16             79.0  Waste collection   \n",
            "13      14             98.3  Waste collection   \n",
            "92      93            126.9  Waste collection   \n",
            "39      40            116.0  Waste collection   \n",
            "34      35            100.8  Waste collection   \n",
            "85      86            134.3  Waste collection   \n",
            "94      95            120.5  Waste collection   \n",
            "67      68             67.5  Waste collection   \n",
            "51      52             95.8  Waste collection   \n",
            "\n",
            "                              Job_Categories       Location  Offered_Wage  \\\n",
            "28                          Waste collectors  Nusa Tenggara         71651   \n",
            "25  Waste collectors, Scrap metal collectors  Nusa Tenggara        107215   \n",
            "97  Scrap metal collectors, Waste collectors  Nusa Tenggara         95509   \n",
            "47                          Waste collectors           Bali        107516   \n",
            "55                          Waste collectors       Sulawesi         78117   \n",
            "63                          Waste collectors      East Java        119017   \n",
            "14                          Waste collectors        Sumatra        108084   \n",
            "79                          Waste collectors      West Java         65594   \n",
            "15                          Waste collectors   Central Java         71662   \n",
            "13  Scrap metal collectors, Waste collectors        Sumatra        139196   \n",
            "92  Scrap metal collectors, Waste collectors   Central Java        107829   \n",
            "39  Waste collectors, Scrap metal collectors        Jakarta        112596   \n",
            "34  Scrap metal collectors, Waste collectors          Papua        125989   \n",
            "85  Waste collectors, Scrap metal collectors       Sulawesi         85095   \n",
            "94  Waste collectors, Scrap metal collectors     Kalimantan         78717   \n",
            "67  Scrap metal collectors, Waste collectors       Sulawesi        107494   \n",
            "51  Scrap metal collectors, Waste collectors        Sumatra         73791   \n",
            "\n",
            "    relevance_score  \n",
            "28         2.768800  \n",
            "25         2.386445  \n",
            "97         2.283777  \n",
            "47         2.116389  \n",
            "55         2.109825  \n",
            "63         2.053074  \n",
            "14         2.018115  \n",
            "79         1.793737  \n",
            "15         1.738853  \n",
            "13         1.659398  \n",
            "92         1.651891  \n",
            "39         1.620265  \n",
            "34         1.608528  \n",
            "85         1.579808  \n",
            "94         1.480204  \n",
            "67         1.353284  \n",
            "51         1.333068  \n"
          ]
        }
      ]
    }
  ]
}